# Run this cell to start the quiz application
!python quiz_app.py
